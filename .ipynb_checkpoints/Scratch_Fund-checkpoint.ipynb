{
 "cells": [
  {
   "cell_type": "code",
   "execution_count": 1,
   "metadata": {},
   "outputs": [],
   "source": [
    "from bs4 import BeautifulSoup \n",
    "import requests\n",
    "from selenium import webdriver\n",
    "from selenium.webdriver.common.keys import Keys\n",
    "from selenium.webdriver import ActionChains\n",
    "from selenium.webdriver.support.ui import WebDriverWait\n",
    "import pandas as pd\n",
    "import matplotlib.pyplot as plt\n",
    "import os\n",
    "import numpy as np\n",
    "import time\n",
    "import re\n",
    "import warnings\n",
    "import json \n",
    "warnings.filterwarnings('ignore')"
   ]
  },
  {
   "cell_type": "markdown",
   "metadata": {},
   "source": [
    "# Set up Funds Input "
   ]
  },
  {
   "cell_type": "code",
   "execution_count": 110,
   "metadata": {},
   "outputs": [
    {
     "data": {
      "text/plain": [
       "['基金名稱',\n",
       " '成立日期',\n",
       " '興櫃交易代碼',\n",
       " '基金規模',\n",
       " '基金公司',\n",
       " '基金類型',\n",
       " '基金經理人',\n",
       " '計價幣別',\n",
       " '成立時規模',\n",
       " '投資區域',\n",
       " '保管銀行',\n",
       " '基金評等',\n",
       " '主要投資區域',\n",
       " '單筆最低申購',\n",
       " '風險報酬等級',\n",
       " '定時定額',\n",
       " '管理年費(%)',\n",
       " '手續費(%)',\n",
       " '保管費(%)',\n",
       " '基金統編',\n",
       " '配息頻率',\n",
       " '費用備註',\n",
       " '文件下載',\n",
       " '投資標的']"
      ]
     },
     "execution_count": 110,
     "metadata": {},
     "output_type": "execute_result"
    }
   ],
   "source": [
    "# Funds Url\n",
    "urlETF = 'https://www.moneydj.com/funddj/yb/yp302000.djhtm?a=ET000001'\n",
    "urlTech = 'https://www.moneydj.com/funddj/yb/yp302000.djhtm?a=ET001001'\n",
    "urlChina = 'https://www.moneydj.com/funddj/yb/yp302000.djhtm?a=ET001006'\n",
    "urlValue = 'https://www.moneydj.com/funddj/yb/yp302000.djhtm?a=ET001007'\n",
    "urlOTC = 'https://www.moneydj.com/funddj/yb/yp302000.djhtm?a=ET001008'\n",
    "\n",
    "categories = [\"ETF\", \"Tech\", \"China\", \"Value\", \"OTC\"]\n",
    "index_lists = pd.read_csv(\".\\data\\index_list.csv\", encoding = 'cp950', header = None).values.tolist()\n",
    "index_list = [ele[0] for ele in index_lists]\n",
    "index_list"
   ]
  },
  {
   "cell_type": "code",
   "execution_count": 134,
   "metadata": {},
   "outputs": [],
   "source": [
    "def contents_output(df_contents, cate):\n",
    "    output_path = str(os.path.join(os.getcwd(), 'data', cate))\n",
    "    df_contents.to_csv(os.path.join(output_path, \"{}_basic_info.csv\".format(cate)), encoding = 'cp950',  header = 0)"
   ]
  },
  {
   "cell_type": "code",
   "execution_count": 154,
   "metadata": {},
   "outputs": [],
   "source": [
    "def scratch_basicInfo(url):\n",
    "    main_driver.get(url)\n",
    "    main_driver.implicitly_wait(5)\n",
    "    funds_basic_info = main_driver.find_element_by_xpath(\"//*[@id='article']/form/div[1]/div/ul/li[1]/a\")\n",
    "    funds_basic_info.click()\n",
    "    main_driver.implicitly_wait(5)\n",
    "    simpleTable =  main_driver.find_element_by_xpath(\"//*[@id='article']/form/table[1]/tbody\" )\n",
    "    rows = simpleTable.find_elements_by_tag_name(\"tr\")\n",
    "    contents = []\n",
    "    \n",
    "    for row in rows[:-2]:\n",
    "        cols = row.find_elements_by_tag_name(\"td\")\n",
    "        line = []\n",
    "        for i, col in enumerate(cols):\n",
    "            if i == 1 or i == 3: #only include the value\n",
    "                line.append(col.text)\n",
    "            elif i == 2: # for two columns\n",
    "                contents.append(line)\n",
    "                line = []\n",
    "        contents.append(line)\n",
    "    return contents"
   ]
  },
  {
   "cell_type": "code",
   "execution_count": 158,
   "metadata": {},
   "outputs": [],
   "source": [
    "results_path = str(os.path.join(os.getcwd(), 'data'))\n",
    "chrome_options = webdriver.ChromeOptions() \n",
    "prefs = {'download.default_directory' : results_path}\n",
    "chrome_options.add_experimental_option('prefs', prefs)\n",
    "\n",
    "main_driver = webdriver.Chrome('C:\\\\webdrivers\\\\chromedriver', options = chrome_options)  \n",
    "main_driver.get(urlValue)\n",
    "main_driver.implicitly_wait(5)"
   ]
  },
  {
   "cell_type": "code",
   "execution_count": 159,
   "metadata": {},
   "outputs": [
    {
     "name": "stdout",
     "output_type": "stream",
     "text": [
      "總共幾個Funds: 3\n",
      "---------------------------------\n",
      "現在正在處理: 野村台灣高股息基金\n",
      "https://www.moneydj.com/funddj/ya/yp010000.djhtm?a=ACKH29\n",
      "現在正在處理: 富達台灣成長基金\n",
      "https://www.moneydj.com/funddj/ya/yp010000.djhtm?a=ACFD02\n",
      "現在正在處理: 元大巴菲特基金\n",
      "https://www.moneydj.com/funddj/ya/yp010000.djhtm?a=ACYT16\n"
     ]
    }
   ],
   "source": [
    "fundTable = main_driver.find_element_by_xpath('//*[@id=\"oMainTable\"]/tbody')\n",
    "rows = fundTable.find_elements_by_tag_name(\"tr\")\n",
    "print(\"總共幾個Funds: %i\" %len(rows))\n",
    "print(\"---------------------------------\")\n",
    "\n",
    "links = []\n",
    "for row in rows:\n",
    "    firstCol = row.find_elements_by_tag_name(\"td\")[3]\n",
    "    fundName = firstCol.text\n",
    "    print(\"現在正在處理: %s\" %fundName)\n",
    "    print(firstCol.find_elements_by_tag_name('a')[0].get_attribute('href'))\n",
    "    links.append(firstCol.find_elements_by_tag_name('a')[0].get_attribute('href'))"
   ]
  },
  {
   "cell_type": "code",
   "execution_count": 155,
   "metadata": {},
   "outputs": [
    {
     "name": "stdout",
     "output_type": "stream",
     "text": [
      "現在正在處理: 保德信店頭市場基金\n",
      "現在正在處理: 元大店頭基金\n",
      "現在正在處理: 新光店頭基金\n",
      "現在正在處理: 群益店頭市場基金\n",
      "現在正在處理: 第一金店頭市場基金\n"
     ]
    }
   ],
   "source": [
    "concated_df = []\n",
    "for link in links[:]:\n",
    "    contents = scratch_basicInfo(link)\n",
    "    print(\"現在正在處理: %s\" %contents[0][0])\n",
    "    df = pd.DataFrame(contents, index = index_list)\n",
    "    concated_df.append(df)\n",
    "\n",
    "result = pd.concat(concated_df, axis=1)"
   ]
  },
  {
   "cell_type": "code",
   "execution_count": 156,
   "metadata": {},
   "outputs": [
    {
     "data": {
      "text/html": [
       "<div>\n",
       "<style scoped>\n",
       "    .dataframe tbody tr th:only-of-type {\n",
       "        vertical-align: middle;\n",
       "    }\n",
       "\n",
       "    .dataframe tbody tr th {\n",
       "        vertical-align: top;\n",
       "    }\n",
       "\n",
       "    .dataframe thead th {\n",
       "        text-align: right;\n",
       "    }\n",
       "</style>\n",
       "<table border=\"1\" class=\"dataframe\">\n",
       "  <thead>\n",
       "    <tr style=\"text-align: right;\">\n",
       "      <th></th>\n",
       "      <th>0</th>\n",
       "      <th>0</th>\n",
       "      <th>0</th>\n",
       "      <th>0</th>\n",
       "      <th>0</th>\n",
       "    </tr>\n",
       "  </thead>\n",
       "  <tbody>\n",
       "    <tr>\n",
       "      <th>基金名稱</th>\n",
       "      <td>保德信店頭市場基金</td>\n",
       "      <td>元大店頭基金</td>\n",
       "      <td>新光店頭基金</td>\n",
       "      <td>群益店頭市場基金</td>\n",
       "      <td>第一金店頭市場基金</td>\n",
       "    </tr>\n",
       "    <tr>\n",
       "      <th>成立日期</th>\n",
       "      <td>1996/09/16</td>\n",
       "      <td>1997/01/27</td>\n",
       "      <td>1998/10/28</td>\n",
       "      <td>1997/02/13</td>\n",
       "      <td>1997/07/23</td>\n",
       "    </tr>\n",
       "    <tr>\n",
       "      <th>興櫃交易代碼</th>\n",
       "      <td></td>\n",
       "      <td></td>\n",
       "      <td></td>\n",
       "      <td></td>\n",
       "      <td></td>\n",
       "    </tr>\n",
       "    <tr>\n",
       "      <th>基金規模</th>\n",
       "      <td>7.51億元(台幣)　規模日期:2019/04/30</td>\n",
       "      <td>9.71億元(台幣)　規模日期:2019/04/30</td>\n",
       "      <td>2.95億元(台幣)　規模日期:2019/04/30</td>\n",
       "      <td>34.35億元(台幣)　規模日期:2019/04/30</td>\n",
       "      <td>3.01億元(台幣)　規模日期:2019/04/30</td>\n",
       "    </tr>\n",
       "    <tr>\n",
       "      <th>基金公司</th>\n",
       "      <td>保德信投信</td>\n",
       "      <td>元大投信</td>\n",
       "      <td>新光投信</td>\n",
       "      <td>群益投信</td>\n",
       "      <td>第一金投信</td>\n",
       "    </tr>\n",
       "  </tbody>\n",
       "</table>\n",
       "</div>"
      ],
      "text/plain": [
       "                                 0                           0  \\\n",
       "基金名稱                     保德信店頭市場基金                      元大店頭基金   \n",
       "成立日期                    1996/09/16                  1997/01/27   \n",
       "興櫃交易代碼                                                           \n",
       "基金規模    7.51億元(台幣)　規模日期:2019/04/30  9.71億元(台幣)　規模日期:2019/04/30   \n",
       "基金公司                         保德信投信                        元大投信   \n",
       "\n",
       "                                 0                            0  \\\n",
       "基金名稱                        新光店頭基金                     群益店頭市場基金   \n",
       "成立日期                    1998/10/28                   1997/02/13   \n",
       "興櫃交易代碼                                                            \n",
       "基金規模    2.95億元(台幣)　規模日期:2019/04/30  34.35億元(台幣)　規模日期:2019/04/30   \n",
       "基金公司                          新光投信                         群益投信   \n",
       "\n",
       "                                 0  \n",
       "基金名稱                     第一金店頭市場基金  \n",
       "成立日期                    1997/07/23  \n",
       "興櫃交易代碼                              \n",
       "基金規模    3.01億元(台幣)　規模日期:2019/04/30  \n",
       "基金公司                         第一金投信  "
      ]
     },
     "execution_count": 156,
     "metadata": {},
     "output_type": "execute_result"
    }
   ],
   "source": [
    "result.head(5)"
   ]
  },
  {
   "cell_type": "code",
   "execution_count": 157,
   "metadata": {},
   "outputs": [],
   "source": [
    "contents_output(result, cate = 'OTC')"
   ]
  }
 ],
 "metadata": {
  "kernelspec": {
   "display_name": "Python 3",
   "language": "python",
   "name": "python3"
  },
  "language_info": {
   "codemirror_mode": {
    "name": "ipython",
    "version": 3
   },
   "file_extension": ".py",
   "mimetype": "text/x-python",
   "name": "python",
   "nbconvert_exporter": "python",
   "pygments_lexer": "ipython3",
   "version": "3.6.5"
  }
 },
 "nbformat": 4,
 "nbformat_minor": 2
}
